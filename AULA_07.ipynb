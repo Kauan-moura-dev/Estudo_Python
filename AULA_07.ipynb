{
 "cells": [
  {
   "cell_type": "code",
   "execution_count": 12,
   "id": "f5e3807c",
   "metadata": {},
   "outputs": [
    {
     "name": "stdout",
     "output_type": "stream",
     "text": [
      "2\n",
      "1 <class 'int'>\n",
      "3\n",
      "<class 'int'>\n",
      "False\n",
      "<class 'bool'>\n",
      "True\n",
      "11b\n"
     ]
    }
   ],
   "source": [
    "#Conversão de tipos, coerção\n",
    "#type convertion, typecasting, coercion\n",
    "# é o ato de converterum tipo em outro\n",
    "# tipos imutaveis e primitivos:\n",
    "print(1 + 1)\n",
    "\n",
    "#Estou poliformizando essa função abaixo\n",
    "#O que seria basicamente é quando eu quero fazer alguma operação aritimetica com um tipo de dado que não é próprio para operações matemáticas.\n",
    "print(int('1'), type(int('1')))\n",
    "\n",
    "#converti a string para inteiro e depois somei com o número 2, que é um número inteiro\n",
    "print(int('1') + 2)\n",
    "\n",
    "# verifico o tipo do dado da função\n",
    "print(type(int('1') + 2))\n",
    "\n",
    "#verifico o tipo de dado booleano\n",
    "print(bool('kauan' == 'Kauan'))\n",
    "print(type(bool('kauan' == 'Kauan')))\n",
    "\n",
    "#valor defualt do tipo de dado booleano é true\n",
    "print(bool(' '))\n",
    "\n",
    "#converto um número inteiro para string e depois somo com outra string\n",
    "print(str(11) + 'b')"
   ]
  }
 ],
 "metadata": {
  "kernelspec": {
   "display_name": "Python 3",
   "language": "python",
   "name": "python3"
  },
  "language_info": {
   "codemirror_mode": {
    "name": "ipython",
    "version": 3
   },
   "file_extension": ".py",
   "mimetype": "text/x-python",
   "name": "python",
   "nbconvert_exporter": "python",
   "pygments_lexer": "ipython3",
   "version": "3.12.5"
  }
 },
 "nbformat": 4,
 "nbformat_minor": 5
}
