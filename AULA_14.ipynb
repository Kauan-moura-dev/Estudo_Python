{
 "cells": [
  {
   "cell_type": "markdown",
   "id": "586c9213",
   "metadata": {},
   "source": [
    "# Formatação"
   ]
  },
  {
   "cell_type": "markdown",
   "id": "4850e6d0",
   "metadata": {},
   "source": [
    "## f-strings"
   ]
  },
  {
   "cell_type": "code",
   "execution_count": 3,
   "id": "2c1e5b36",
   "metadata": {},
   "outputs": [
    {
     "name": "stdout",
     "output_type": "stream",
     "text": [
      "Kauan Castro Moura, com 22 anos de idade, possui uma altura de 1.85m e um peso de 85KG. O seu IMC é: 27.24\n"
     ]
    }
   ],
   "source": [
    "nome = 'Kauan Castro Moura'\n",
    "idade = 22\n",
    "altura = 1.85\n",
    "peso = 85\n",
    "imc = peso / altura ** altura\n",
    "\n",
    "text_imc = f\"{nome}, com {idade} anos de idade, possui uma altura de {altura}m e um peso de {peso}KG. O seu IMC é: {imc:.2f}\"\n",
    "\n",
    "print(text_imc)\n",
    "\n"
   ]
  }
 ],
 "metadata": {
  "kernelspec": {
   "display_name": "Python 3",
   "language": "python",
   "name": "python3"
  },
  "language_info": {
   "codemirror_mode": {
    "name": "ipython",
    "version": 3
   },
   "file_extension": ".py",
   "mimetype": "text/x-python",
   "name": "python",
   "nbconvert_exporter": "python",
   "pygments_lexer": "ipython3",
   "version": "3.12.5"
  }
 },
 "nbformat": 4,
 "nbformat_minor": 5
}
