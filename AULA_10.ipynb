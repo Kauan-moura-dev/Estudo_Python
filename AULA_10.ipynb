{
 "cells": [
  {
   "cell_type": "markdown",
   "id": "7ce4f1d4",
   "metadata": {},
   "source": [
    "# Variáveis"
   ]
  },
  {
   "cell_type": "code",
   "execution_count": 25,
   "id": "3585571b",
   "metadata": {},
   "outputs": [],
   "source": [
    "adicao = 10 + 10\n",
    "subtracao = 10 - 5\n",
    "divisao = 10 / 2\n",
    "divisao_int = 10//2.2\n",
    "multiplicacao = 10 * 10\n",
    "potenciacao = 5 ** 2\n",
    "modulo = 55 % 2"
   ]
  },
  {
   "cell_type": "code",
   "execution_count": 26,
   "id": "2ac79b71",
   "metadata": {},
   "outputs": [
    {
     "name": "stdout",
     "output_type": "stream",
     "text": [
      "20 adicao\n",
      "5 subtracao\n",
      "5.0 divisao\n",
      "4.0 divisao inteira\n",
      "100 multiplicacao\n",
      "25 potenciacao\n",
      "1 módulo\n"
     ]
    }
   ],
   "source": [
    "# Primeira adição\n",
    "print(adicao , 'adicao')\n",
    "print(subtracao, 'subtracao')\n",
    "print(divisao, 'divisao')\n",
    "print(divisao_int, 'divisao inteira')\n",
    "print(multiplicacao, 'multiplicacao')\n",
    "print(potenciacao, 'potenciacao')\n",
    "print(modulo, 'módulo')"
   ]
  },
  {
   "cell_type": "code",
   "execution_count": 32,
   "id": "970ccec4",
   "metadata": {},
   "outputs": [
    {
     "name": "stdout",
     "output_type": "stream",
     "text": [
      "True\n",
      "True\n",
      "False\n"
     ]
    }
   ],
   "source": [
    "#Como saber se um número é divsível por oito\n",
    "\n",
    "print(16 % 8 == 0)\n",
    "\n",
    "# Como saber se um número é par ou impar\n",
    "print(16 % 2 == 0)\n",
    "\n",
    "print(15 % 2 == 0)"
   ]
  }
 ],
 "metadata": {
  "kernelspec": {
   "display_name": "Python 3",
   "language": "python",
   "name": "python3"
  },
  "language_info": {
   "codemirror_mode": {
    "name": "ipython",
    "version": 3
   },
   "file_extension": ".py",
   "mimetype": "text/x-python",
   "name": "python",
   "nbconvert_exporter": "python",
   "pygments_lexer": "ipython3",
   "version": "3.12.5"
  }
 },
 "nbformat": 4,
 "nbformat_minor": 5
}
