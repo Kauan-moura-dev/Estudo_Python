{
 "cells": [
  {
   "cell_type": "code",
   "execution_count": null,
   "id": "799a5ed8",
   "metadata": {},
   "outputs": [
    {
     "name": "stdout",
     "output_type": "stream",
     "text": [
      "True\n",
      "False\n",
      "<class 'bool'>\n",
      "<class 'bool'>\n",
      "<class 'bool'>\n",
      "<class 'bool'>\n"
     ]
    }
   ],
   "source": [
    "#Tipo de dado bool (boolean)\n",
    "#Ao questionar algo em um programa,\n",
    "#só existem duas respostas possiveis\n",
    "#sim(True) ou nao (False)\n",
    "#Existem vários operadores para \"questionar\".\n",
    "#Dentre eles o ==, que é um operador lógico que\n",
    "# questiona se um valor é igual a outro\n",
    "\n",
    "print(10 == 10) #True\n",
    "\n",
    "print(11 == 10) #False\n",
    "\n",
    "\n",
    "# Verifica o tipo dos dados\n",
    "\n",
    "print(type(True))\n",
    "print(type(False))\n",
    "print(type(10 == 10))\n",
    "print(type(10 == 11))"
   ]
  }
 ],
 "metadata": {
  "kernelspec": {
   "display_name": "Python 3",
   "language": "python",
   "name": "python3"
  },
  "language_info": {
   "codemirror_mode": {
    "name": "ipython",
    "version": 3
   },
   "file_extension": ".py",
   "mimetype": "text/x-python",
   "name": "python",
   "nbconvert_exporter": "python",
   "pygments_lexer": "ipython3",
   "version": "3.12.5"
  }
 },
 "nbformat": 4,
 "nbformat_minor": 5
}
