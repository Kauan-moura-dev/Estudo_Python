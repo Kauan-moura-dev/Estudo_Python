{
 "cells": [
  {
   "cell_type": "code",
   "execution_count": null,
   "id": "c2398cbc",
   "metadata": {},
   "outputs": [
    {
     "name": "stdout",
     "output_type": "stream",
     "text": [
      "False\n",
      "1 <class 'int'>\n",
      "Kauan Castro Moura 4\n"
     ]
    }
   ],
   "source": [
    "#variáveis são usasdas para salvar algo na memória do computador.\n",
    "# PEP8: inicie variáveis com letras minúsculas, pode usar\n",
    "# números e underline _.\n",
    "#o sinal  de = é o operador de atribuição. ele é usado para\n",
    "#atribuir um valor a um nome (variável).\n",
    "# Uso: nome_variavel = expressão\n",
    "\n",
    "nome_completo = 'Kauan Castro Moura'\n",
    "soma_dois_mais_dois = 2 + 2\n",
    "int_um = int('1')\n",
    "\n",
    "bool_um = bool('Kauan')\n",
    "print(bool_um)\n",
    "\n",
    "print(int_um, type(int_um))\n",
    "print(nome_completo, soma_dois_mais_dois)"
   ]
  },
  {
   "cell_type": "code",
   "execution_count": 18,
   "id": "2a9966f1",
   "metadata": {},
   "outputs": [
    {
     "name": "stdout",
     "output_type": "stream",
     "text": [
      "Nome: Kauan Idade: 22 Maior de idade? True\n"
     ]
    }
   ],
   "source": [
    "nome = 'Kauan'\n",
    "idade = 22\n",
    "maior_de_idade = idade >=18\n",
    "\n",
    "print('Nome:',nome,'Idade:', idade,'Maior de idade?',maior_de_idade, sep=' ')"
   ]
  },
  {
   "cell_type": "markdown",
   "id": "4c0545ad",
   "metadata": {},
   "source": [
    "## Regras: ##\n",
    "\n",
    "bool(\"\") → False (string vazia)\n",
    "\n",
    "bool(\"qualquer coisa\") → True (string não vazia)\n",
    "\n",
    "Por quê?\n",
    "Python trata valores \"vazios\" ou \"nulos\" como False em contextos booleanos. Isso inclui:\n",
    "\n",
    "string vazia: \"\"\n",
    "\n",
    "número zero: 0 ou 0.0\n",
    "\n",
    "lista ou dicionário vazio: [], {}\n",
    "\n",
    "None\n",
    "\n",
    "Tudo o que não for vazio, é considerado True."
   ]
  },
  {
   "cell_type": "code",
   "execution_count": 14,
   "id": "46af8446",
   "metadata": {},
   "outputs": [
    {
     "data": {
      "text/plain": [
       "True"
      ]
     },
     "execution_count": 14,
     "metadata": {},
     "output_type": "execute_result"
    }
   ],
   "source": [
    "#Qualquer string convertida para o tipo de dado Booleado vai ser definida como verdadeira (True), se atender esses requisitos\n",
    "bool(\"\")           # False\n",
    "bool(\"Python\")     # True\n",
    "bool(\"False\")      # True ← porque ainda é uma string não vazia"
   ]
  }
 ],
 "metadata": {
  "kernelspec": {
   "display_name": "Python 3",
   "language": "python",
   "name": "python3"
  },
  "language_info": {
   "codemirror_mode": {
    "name": "ipython",
    "version": 3
   },
   "file_extension": ".py",
   "mimetype": "text/x-python",
   "name": "python",
   "nbconvert_exporter": "python",
   "pygments_lexer": "ipython3",
   "version": "3.12.5"
  }
 },
 "nbformat": 4,
 "nbformat_minor": 5
}
