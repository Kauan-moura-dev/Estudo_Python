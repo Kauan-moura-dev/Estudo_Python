{
 "cells": [
  {
   "cell_type": "code",
   "execution_count": 1,
   "id": "b25dcdea",
   "metadata": {},
   "outputs": [
    {
     "name": "stdout",
     "output_type": "stream",
     "text": [
      "Kauan Moura\n"
     ]
    }
   ],
   "source": [
    "concatenacao = 'Kauan' + ' ' + 'Moura'\n",
    "print(concatenacao)"
   ]
  },
  {
   "cell_type": "code",
   "execution_count": 3,
   "id": "435caa6e",
   "metadata": {},
   "outputs": [
    {
     "name": "stdout",
     "output_type": "stream",
     "text": [
      "AAAAAAAAAA\n"
     ]
    }
   ],
   "source": [
    "#Aqui repete o código dez vezes\n",
    "a_dez_vez = 'A' * 10\n",
    "print(a_dez_vez)"
   ]
  }
 ],
 "metadata": {
  "kernelspec": {
   "display_name": "Python 3",
   "language": "python",
   "name": "python3"
  },
  "language_info": {
   "codemirror_mode": {
    "name": "ipython",
    "version": 3
   },
   "file_extension": ".py",
   "mimetype": "text/x-python",
   "name": "python",
   "nbconvert_exporter": "python",
   "pygments_lexer": "ipython3",
   "version": "3.12.5"
  }
 },
 "nbformat": 4,
 "nbformat_minor": 5
}
