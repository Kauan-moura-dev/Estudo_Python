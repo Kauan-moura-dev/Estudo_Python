{
 "cells": [
  {
   "cell_type": "markdown",
   "id": "85343767",
   "metadata": {},
   "source": [
    "# Variaveis"
   ]
  },
  {
   "cell_type": "code",
   "execution_count": 21,
   "id": "7cb4cc2f",
   "metadata": {},
   "outputs": [],
   "source": [
    "nome = 'Kauan'\n",
    "sobrenome = 'Moura'\n",
    "idade = 23\n",
    "ano_nascimento = 2025 - 22\n",
    "maior_de_idade = idade >= 18\n",
    "altura_metros = 1.85 "
   ]
  },
  {
   "cell_type": "code",
   "execution_count": 22,
   "id": "673928bd",
   "metadata": {},
   "outputs": [
    {
     "name": "stdout",
     "output_type": "stream",
     "text": [
      "Nome: Kauan\n",
      "SObrenome: Moura\n",
      "Idade: 23\n",
      "Ano de nascimento: 2003\n",
      "É maior de idade? True\n",
      "Altura em metros: 1.85 m\n"
     ]
    }
   ],
   "source": [
    "print('Nome:', nome)\n",
    "print('SObrenome:', sobrenome)\n",
    "print('Idade:', idade)\n",
    "print('Ano de nascimento:', ano_nascimento)\n",
    "print('É maior de idade?', maior_de_idade)\n",
    "print('Altura em metros:', altura_metros,'m')"
   ]
  },
  {
   "cell_type": "markdown",
   "id": "df376dc4",
   "metadata": {},
   "source": [
    "# Tipo dos dados"
   ]
  },
  {
   "cell_type": "code",
   "execution_count": 23,
   "id": "f9c9a884",
   "metadata": {},
   "outputs": [
    {
     "name": "stdout",
     "output_type": "stream",
     "text": [
      "<class 'str'>\n",
      "<class 'str'>\n",
      "<class 'int'>\n",
      "<class 'int'>\n",
      "<class 'bool'>\n",
      "<class 'float'>\n"
     ]
    }
   ],
   "source": [
    "print(type(nome))\n",
    "print(type(sobrenome))\n",
    "print(type(idade))\n",
    "print(type(ano_nascimento))\n",
    "print(type(maior_de_idade))\n",
    "print(type(altura_metros))"
   ]
  }
 ],
 "metadata": {
  "kernelspec": {
   "display_name": "Python 3",
   "language": "python",
   "name": "python3"
  },
  "language_info": {
   "codemirror_mode": {
    "name": "ipython",
    "version": 3
   },
   "file_extension": ".py",
   "mimetype": "text/x-python",
   "name": "python",
   "nbconvert_exporter": "python",
   "pygments_lexer": "ipython3",
   "version": "3.12.5"
  }
 },
 "nbformat": 4,
 "nbformat_minor": 5
}
