{
 "cells": [
  {
   "cell_type": "markdown",
   "id": "a2bd6f7e",
   "metadata": {},
   "source": [
    "## Precedência dos operadores\n"
   ]
  },
  {
   "cell_type": "code",
   "execution_count": null,
   "id": "1960d002",
   "metadata": {},
   "outputs": [],
   "source": [
    "\"\"\"\n",
    "Ordem de prioridade dos códigos\n",
    "\n",
    "1. (n + n) \n",
    "\n",
    "2. ** potenciação\n",
    "\n",
    "3. * / // % Multiplicação, Divisão, Divisão Inteira\n",
    "\n",
    "4. + - Adição e subtração\n",
    "\"\"\""
   ]
  },
  {
   "cell_type": "code",
   "execution_count": 9,
   "id": "e7df94d5",
   "metadata": {},
   "outputs": [
    {
     "name": "stdout",
     "output_type": "stream",
     "text": [
      "101.0\n",
      "9.0\n",
      "6.0\n"
     ]
    }
   ],
   "source": [
    "conta = ((1+1) ** 5) * 3 / (2 // 2) + 8 - 3\n",
    "print(conta)\n",
    "\n",
    "conta2 = 1+1 ** 5 * 3 / (2 // 2) + 8 - 3\n",
    "print(conta2)\n",
    "\n",
    "conta3 = (1+1 ** 5) * 3 / 2 // 2 + 8 - 3\n",
    "print(conta3)"
   ]
  }
 ],
 "metadata": {
  "kernelspec": {
   "display_name": "Python 3",
   "language": "python",
   "name": "python3"
  },
  "language_info": {
   "codemirror_mode": {
    "name": "ipython",
    "version": 3
   },
   "file_extension": ".py",
   "mimetype": "text/x-python",
   "name": "python",
   "nbconvert_exporter": "python",
   "pygments_lexer": "ipython3",
   "version": "3.12.5"
  }
 },
 "nbformat": 4,
 "nbformat_minor": 5
}
