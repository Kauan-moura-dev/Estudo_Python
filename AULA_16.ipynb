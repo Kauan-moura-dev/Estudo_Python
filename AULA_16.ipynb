{
 "cells": [
  {
   "cell_type": "markdown",
   "id": "27eb056e",
   "metadata": {},
   "source": [
    "# Função input"
   ]
  },
  {
   "cell_type": "markdown",
   "id": "acdaf300",
   "metadata": {},
   "source": [
    "O usuário fornece um dado para o computador e a máquina compreende essa entrada e retorna o que foi escrito pelo usuário no terminal."
   ]
  },
  {
   "cell_type": "code",
   "execution_count": 1,
   "id": "3091ce97",
   "metadata": {},
   "outputs": [
    {
     "data": {
      "text/plain": [
       "'Kauan'"
      ]
     },
     "execution_count": 1,
     "metadata": {},
     "output_type": "execute_result"
    }
   ],
   "source": [
    "input('Qual o seu nome?')"
   ]
  },
  {
   "cell_type": "markdown",
   "id": "604b4081",
   "metadata": {},
   "source": [
    "Podemos salvar o input em uma variável."
   ]
  },
  {
   "cell_type": "code",
   "execution_count": 2,
   "id": "dabe5e58",
   "metadata": {},
   "outputs": [],
   "source": [
    "armazena_input = input('Qual a sua idade?')"
   ]
  },
  {
   "cell_type": "markdown",
   "id": "aedc2c74",
   "metadata": {},
   "source": [
    "Para saber o valor que foi armazenado na variável, basta solicitar a saída dos dados."
   ]
  },
  {
   "cell_type": "code",
   "execution_count": 3,
   "id": "55c595d4",
   "metadata": {},
   "outputs": [
    {
     "name": "stdout",
     "output_type": "stream",
     "text": [
      "18\n"
     ]
    }
   ],
   "source": [
    "print(armazena_input)"
   ]
  },
  {
   "cell_type": "code",
   "execution_count": 4,
   "id": "9bf8ba99",
   "metadata": {},
   "outputs": [
    {
     "data": {
      "text/plain": [
       "'18'"
      ]
     },
     "execution_count": 4,
     "metadata": {},
     "output_type": "execute_result"
    }
   ],
   "source": [
    "armazena_input"
   ]
  },
  {
   "cell_type": "markdown",
   "id": "8a28a92f",
   "metadata": {},
   "source": [
    "Podemos fazer também uma soma"
   ]
  },
  {
   "cell_type": "code",
   "execution_count": 12,
   "id": "d8cf2773",
   "metadata": {},
   "outputs": [
    {
     "name": "stdout",
     "output_type": "stream",
     "text": [
      "A soma resulta em: 20\n"
     ]
    }
   ],
   "source": [
    "x = input('Digite o primeiro produto:')\n",
    "y = input('Digite o segundo produto:')\n",
    "operacao = int(x) + int(y) \n",
    "print('A soma resulta em:', operacao)"
   ]
  },
  {
   "cell_type": "markdown",
   "id": "1be01294",
   "metadata": {},
   "source": [
    "OBS: Eu tive que converter o tipo das variaveis, pois ela estava armazenando como STR ou STRING\n",
    "\n",
    "* Atenção: não converta o tipo da variável no momento da declaração, pois pode acontecer do usuário digitar um caracter não numérico."
   ]
  }
 ],
 "metadata": {
  "kernelspec": {
   "display_name": "Python 3",
   "language": "python",
   "name": "python3"
  },
  "language_info": {
   "codemirror_mode": {
    "name": "ipython",
    "version": 3
   },
   "file_extension": ".py",
   "mimetype": "text/x-python",
   "name": "python",
   "nbconvert_exporter": "python",
   "pygments_lexer": "ipython3",
   "version": "3.12.5"
  }
 },
 "nbformat": 4,
 "nbformat_minor": 5
}
