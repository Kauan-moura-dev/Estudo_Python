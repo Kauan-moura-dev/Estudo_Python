{
 "cells": [
  {
   "cell_type": "code",
   "execution_count": null,
   "id": "5da22c4f",
   "metadata": {},
   "outputs": [
    {
     "name": "stdout",
     "output_type": "stream",
     "text": [
      "1234\n",
      "Luis Otávio\n",
      "Luis Otávio\n",
      "2 Luiz \"Otávio\"\n",
      "Luiz \"Otávio\n",
      "Ele disse: \"Olá!\"\n",
      "Luiz \\\"Otávio\\\"\n"
     ]
    }
   ],
   "source": [
    "'''\n",
    "Docstring\n",
    "Python = Linguagem de programação\n",
    "tipo de tipagem = Dinâmica / forte\n",
    "str -> string -> texto\n",
    "String são texto s que estão dentro de aspas\n",
    "'''\n",
    "\n",
    "print(1234)\n",
    "\n",
    "#Aspas simples\n",
    "print('Luis Otávio')\n",
    "\n",
    "#Aspas duplas\n",
    "print(\"Luis Otávio\")\n",
    "print(2, 'Luiz \"Otávio\"')\n",
    "\n",
    "#Escape\n",
    "#O escape serve para inserir, dentro da função print, uma aspa dupla (\") ou simples (') sem que o código interprete a aspa como o fim da string.\n",
    "print(\"Luiz \\\"Otávio\")\n",
    "print(\"Ele disse: \\\"Olá!\\\"\")\n",
    "\n",
    "#r\n",
    "print(r\"Luiz \\\"Otávio\\\"\")\n"
   ]
  }
 ],
 "metadata": {
  "kernelspec": {
   "display_name": "Python 3",
   "language": "python",
   "name": "python3"
  },
  "language_info": {
   "codemirror_mode": {
    "name": "ipython",
    "version": 3
   },
   "file_extension": ".py",
   "mimetype": "text/x-python",
   "name": "python",
   "nbconvert_exporter": "python",
   "pygments_lexer": "ipython3",
   "version": "3.12.5"
  }
 },
 "nbformat": 4,
 "nbformat_minor": 5
}
