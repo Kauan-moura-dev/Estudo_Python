{
 "cells": [
  {
   "cell_type": "code",
   "execution_count": 5,
   "id": "1e035917",
   "metadata": {},
   "outputs": [
    {
     "name": "stdout",
     "output_type": "stream",
     "text": [
      "11\n",
      "-11\n",
      "0\n",
      "1.1\n",
      "-1.1\n",
      "0.5\n",
      "-0.5\n",
      "<class 'str'>\n",
      "<class 'int'>\n",
      "<class 'float'> <class 'float'> <class 'float'>\n"
     ]
    }
   ],
   "source": [
    "#Tipos int e float\n",
    "#int -> Número inteiro\n",
    "#O tipo int representa qualquer número\n",
    "# positivo ou negativo. int sem sinal é considerado.\n",
    "# positivo.\n",
    "\n",
    "print(11) \n",
    "print(-11) \n",
    "print(0)\n",
    "\n",
    "#float -> Número com ponto flutuante \n",
    "#O tipo float representa qualque número com ponto flutuante.\n",
    "#positivo ou negativo com ponto flutuante.\n",
    "#float sem sinal é considerado positivo.\n",
    "print(1.1) #int\n",
    "print(-1.1) #int\n",
    "print(0.5)\n",
    "print(-0.5)\n",
    "\n",
    "#A função type mostra o tipo que o python\n",
    "#inferiu ao valor\n",
    "print(type('Otávio'))\n",
    "print(type(0))\n",
    "print(type(1.1), type(-1.1), type(0.0))"
   ]
  }
 ],
 "metadata": {
  "kernelspec": {
   "display_name": "Python 3",
   "language": "python",
   "name": "python3"
  },
  "language_info": {
   "codemirror_mode": {
    "name": "ipython",
    "version": 3
   },
   "file_extension": ".py",
   "mimetype": "text/x-python",
   "name": "python",
   "nbconvert_exporter": "python",
   "pygments_lexer": "ipython3",
   "version": "3.12.5"
  }
 },
 "nbformat": 4,
 "nbformat_minor": 5
}
