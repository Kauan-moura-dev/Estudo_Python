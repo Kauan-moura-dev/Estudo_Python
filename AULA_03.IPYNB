{
 "cells": [
  {
   "cell_type": "code",
   "execution_count": 21,
   "id": "9fb583b2",
   "metadata": {},
   "outputs": [
    {
     "name": "stdout",
     "output_type": "stream",
     "text": [
      "12,34\n",
      "12, 34\n",
      "56 78\n",
      "56; 78\n",
      "09, 10"
     ]
    }
   ],
   "source": [
    "#argumento é o que vem depois da vírgula\n",
    "\n",
    "#A função sep determina qual separador utilizaremos\n",
    "\n",
    "print(12, 34, sep=',')\n",
    "print(12, 34, sep=', ')\n",
    "\n",
    "print(56, 78)\n",
    "# Quebra a linha, porém não exibe nada no print, além da quebra de linha e o que vier depois do end='\\n'\n",
    "print(56, 78, sep=\"; \", end=\"\\n09, 10\")\n",
    "\n",
    "# Quebra a linha, porém não exibe"
   ]
  },
  {
   "cell_type": "code",
   "execution_count": 24,
   "id": "ec76fb07",
   "metadata": {},
   "outputs": [
    {
     "name": "stdout",
     "output_type": "stream",
     "text": [
      "\n"
     ]
    }
   ],
   "source": [
    "print()"
   ]
  }
 ],
 "metadata": {
  "kernelspec": {
   "display_name": "Python 3",
   "language": "python",
   "name": "python3"
  },
  "language_info": {
   "codemirror_mode": {
    "name": "ipython",
    "version": 3
   },
   "file_extension": ".py",
   "mimetype": "text/x-python",
   "name": "python",
   "nbconvert_exporter": "python",
   "pygments_lexer": "ipython3",
   "version": "3.12.5"
  }
 },
 "nbformat": 4,
 "nbformat_minor": 5
}
