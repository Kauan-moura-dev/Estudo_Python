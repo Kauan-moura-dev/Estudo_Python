{
 "cells": [
  {
   "cell_type": "markdown",
   "id": "b214d316",
   "metadata": {},
   "source": [
    "## Exercicio IMC"
   ]
  },
  {
   "cell_type": "markdown",
   "id": "3213158c",
   "metadata": {},
   "source": [
    "O IMC (Índice de Massa Corporal) é calculado dividindo o peso de uma pessoa (em quilogramas) pela altura ao quadrado (em metros). A fórmula é: IMC = peso / (altura x altura). \n"
   ]
  },
  {
   "cell_type": "code",
   "execution_count": 20,
   "id": "b20e8ecf",
   "metadata": {},
   "outputs": [
    {
     "name": "stdout",
     "output_type": "stream",
     "text": [
      "Kauan Castro Moura, com 22 anos de idade, possui uma altura de 1.85m e um peso de 85KG. O seu IMC é: 27.24\n"
     ]
    }
   ],
   "source": [
    "nome = 'Kauan Castro Moura'\n",
    "idade = 22\n",
    "altura = 1.85\n",
    "peso = 85\n",
    "imc = peso / altura ** altura\n",
    "\n",
    "print(f\"{nome}, com {idade} anos de idade, possui uma altura de {altura}m e um peso de {peso}KG. O seu IMC é: {imc:.2f}\")\n"
   ]
  }
 ],
 "metadata": {
  "kernelspec": {
   "display_name": "Python 3",
   "language": "python",
   "name": "python3"
  },
  "language_info": {
   "codemirror_mode": {
    "name": "ipython",
    "version": 3
   },
   "file_extension": ".py",
   "mimetype": "text/x-python",
   "name": "python",
   "nbconvert_exporter": "python",
   "pygments_lexer": "ipython3",
   "version": "3.12.5"
  }
 },
 "nbformat": 4,
 "nbformat_minor": 5
}
