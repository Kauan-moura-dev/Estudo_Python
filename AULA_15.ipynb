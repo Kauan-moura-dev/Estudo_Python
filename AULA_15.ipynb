{
 "cells": [
  {
   "cell_type": "markdown",
   "id": "892d7913",
   "metadata": {},
   "source": [
    "## Formatação de stings com método format"
   ]
  },
  {
   "cell_type": "code",
   "execution_count": null,
   "id": "f86a34f4",
   "metadata": {},
   "outputs": [
    {
     "name": "stdout",
     "output_type": "stream",
     "text": [
      "a=A b=B c=1.1\n",
      "a=A b=B c=1.1\n",
      "a=B b=A c=1.10\n"
     ]
    }
   ],
   "source": [
    "a = 'A'\n",
    "b = 'B'\n",
    "c = 1.1\n",
    "\n",
    "string = 'a={} b={} c={}'\n",
    "formato_1 = string.format(a, b, c) #Essa variável vai retornar o mesmo valor que a variável debaixo.\n",
    "print(formato_1)\n",
    "\n",
    "formato_2 = 'a={} b={} c={}'.format(a, b, c) #O atributo que está dentro da variável formato recebe os argumentos a,b,c\n",
    "print(formato_2)\n",
    "\n",
    "formato_3 = 'a={} b={} c={:.2f}'.format(b, a, c) \n",
    "#O que eu fiz aqui, eu alterei a ordem dos argumento e na variável a ela vai receber o valor da variável b\n",
    "#Também inseri uma formatação na variável c para retornar apenas 2 decimais\n",
    "print(formato_3)"
   ]
  },
  {
   "cell_type": "markdown",
   "id": "34231eaf",
   "metadata": {},
   "source": [
    "Também temos um erro bem comum, onde o usuário procura o valor de uma variável que não foi definido na lista de argumentos."
   ]
  },
  {
   "cell_type": "code",
   "execution_count": null,
   "id": "4cf93c5e",
   "metadata": {},
   "outputs": [],
   "source": [
    "#Exemplo\n",
    "\n",
    "a='a'\n",
    "b='b'\n",
    "c='c'\n",
    "\n",
    "string = 'a={} b={} c={} d={}'\n",
    "formato = string.format(a,b,c)\n",
    "\n",
    "print(formato)\n",
    "\n",
    "#Aqui temos um erro, pois procuramos um argumento fora do range."
   ]
  },
  {
   "cell_type": "markdown",
   "id": "e588afb2",
   "metadata": {},
   "source": [
    "Podemos repetir um argumento usando índices."
   ]
  },
  {
   "cell_type": "code",
   "execution_count": 19,
   "id": "893a5ffe",
   "metadata": {},
   "outputs": [
    {
     "name": "stdout",
     "output_type": "stream",
     "text": [
      "a=a b=b c=c\n",
      "a=b b=b c=b\n",
      "a=a a=a a=a b=b c=c\n"
     ]
    }
   ],
   "source": [
    "#Exemplo 1\n",
    "\n",
    "a='a'\n",
    "b='b'\n",
    "c='c'\n",
    "\n",
    "string = 'a={0} b={1} c={2}'\n",
    "formato = string.format(a,b,c)\n",
    "\n",
    "print(formato)\n",
    "\n",
    "#Exemplo 2\n",
    "\n",
    "a='a'\n",
    "b='b'\n",
    "c='c'\n",
    "\n",
    "string = 'a={1} b={1} c={1}'\n",
    "formato = string.format(a,b,c)\n",
    "\n",
    "print(formato)\n",
    "\n",
    "#Exemplo 3\n",
    "\n",
    "a='a'\n",
    "b='b'\n",
    "c='c'\n",
    "\n",
    "string = 'a={0} a={0} a={0} b={1} c={2}'\n",
    "formato = string.format(a,b,c)\n",
    "\n",
    "print(formato)"
   ]
  },
  {
   "cell_type": "markdown",
   "id": "e67f016a",
   "metadata": {},
   "source": [
    "# Parâmetro nomeado"
   ]
  },
  {
   "cell_type": "code",
   "execution_count": null,
   "id": "ead3f9e2",
   "metadata": {},
   "outputs": [
    {
     "name": "stdout",
     "output_type": "stream",
     "text": [
      "a=a b=b c=c\n"
     ]
    }
   ],
   "source": [
    "a='a'\n",
    "b='b'\n",
    "c='c'\n",
    "\n",
    "string = 'a={para_1} b={para_2} c={para_3}'\n",
    "formato = string.format(para_1=a, para_2=b, para_3=c)\n",
    "print(formato)\n",
    "\n",
    "# OBSERVAÇÃO: VOCê TEM QUE CHAMAR NA PRIMEIRA VARIÁVEL"
   ]
  }
 ],
 "metadata": {
  "kernelspec": {
   "display_name": "Python 3",
   "language": "python",
   "name": "python3"
  },
  "language_info": {
   "codemirror_mode": {
    "name": "ipython",
    "version": 3
   },
   "file_extension": ".py",
   "mimetype": "text/x-python",
   "name": "python",
   "nbconvert_exporter": "python",
   "pygments_lexer": "ipython3",
   "version": "3.12.5"
  }
 },
 "nbformat": 4,
 "nbformat_minor": 5
}
